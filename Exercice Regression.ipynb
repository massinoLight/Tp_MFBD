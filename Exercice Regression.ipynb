{
 "cells": [
  {
   "cell_type": "code",
   "execution_count": 32,
   "id": "fb7718bb",
   "metadata": {},
   "outputs": [],
   "source": [
    "vitesse<-c(4,7,8,9,10,11,11,12,12,13,14,15,15,16,17,18,19,20,24,25)\n",
    "distance<-c(2,4,16,10,26,17,28,20,28,26,36,26,54,40,50,76,46,48,92,85)"
   ]
  },
  {
   "cell_type": "code",
   "execution_count": 33,
   "id": "0c5d1c48",
   "metadata": {},
   "outputs": [
    {
     "data": {
      "text/html": [
       "<ol class=list-inline>\n",
       "\t<li>4</li>\n",
       "\t<li>7</li>\n",
       "\t<li>8</li>\n",
       "\t<li>9</li>\n",
       "\t<li>10</li>\n",
       "\t<li>11</li>\n",
       "\t<li>11</li>\n",
       "\t<li>12</li>\n",
       "\t<li>12</li>\n",
       "\t<li>13</li>\n",
       "\t<li>14</li>\n",
       "\t<li>15</li>\n",
       "\t<li>15</li>\n",
       "\t<li>16</li>\n",
       "\t<li>17</li>\n",
       "\t<li>18</li>\n",
       "\t<li>19</li>\n",
       "\t<li>20</li>\n",
       "\t<li>24</li>\n",
       "\t<li>25</li>\n",
       "</ol>\n"
      ],
      "text/latex": [
       "\\begin{enumerate*}\n",
       "\\item 4\n",
       "\\item 7\n",
       "\\item 8\n",
       "\\item 9\n",
       "\\item 10\n",
       "\\item 11\n",
       "\\item 11\n",
       "\\item 12\n",
       "\\item 12\n",
       "\\item 13\n",
       "\\item 14\n",
       "\\item 15\n",
       "\\item 15\n",
       "\\item 16\n",
       "\\item 17\n",
       "\\item 18\n",
       "\\item 19\n",
       "\\item 20\n",
       "\\item 24\n",
       "\\item 25\n",
       "\\end{enumerate*}\n"
      ],
      "text/markdown": [
       "1. 4\n",
       "2. 7\n",
       "3. 8\n",
       "4. 9\n",
       "5. 10\n",
       "6. 11\n",
       "7. 11\n",
       "8. 12\n",
       "9. 12\n",
       "10. 13\n",
       "11. 14\n",
       "12. 15\n",
       "13. 15\n",
       "14. 16\n",
       "15. 17\n",
       "16. 18\n",
       "17. 19\n",
       "18. 20\n",
       "19. 24\n",
       "20. 25\n",
       "\n",
       "\n"
      ],
      "text/plain": [
       " [1]  4  7  8  9 10 11 11 12 12 13 14 15 15 16 17 18 19 20 24 25"
      ]
     },
     "metadata": {},
     "output_type": "display_data"
    },
    {
     "data": {
      "text/html": [
       "<ol class=list-inline>\n",
       "\t<li>2</li>\n",
       "\t<li>4</li>\n",
       "\t<li>16</li>\n",
       "\t<li>10</li>\n",
       "\t<li>26</li>\n",
       "\t<li>17</li>\n",
       "\t<li>28</li>\n",
       "\t<li>20</li>\n",
       "\t<li>28</li>\n",
       "\t<li>26</li>\n",
       "\t<li>36</li>\n",
       "\t<li>26</li>\n",
       "\t<li>54</li>\n",
       "\t<li>40</li>\n",
       "\t<li>50</li>\n",
       "\t<li>76</li>\n",
       "\t<li>46</li>\n",
       "\t<li>48</li>\n",
       "\t<li>92</li>\n",
       "\t<li>85</li>\n",
       "</ol>\n"
      ],
      "text/latex": [
       "\\begin{enumerate*}\n",
       "\\item 2\n",
       "\\item 4\n",
       "\\item 16\n",
       "\\item 10\n",
       "\\item 26\n",
       "\\item 17\n",
       "\\item 28\n",
       "\\item 20\n",
       "\\item 28\n",
       "\\item 26\n",
       "\\item 36\n",
       "\\item 26\n",
       "\\item 54\n",
       "\\item 40\n",
       "\\item 50\n",
       "\\item 76\n",
       "\\item 46\n",
       "\\item 48\n",
       "\\item 92\n",
       "\\item 85\n",
       "\\end{enumerate*}\n"
      ],
      "text/markdown": [
       "1. 2\n",
       "2. 4\n",
       "3. 16\n",
       "4. 10\n",
       "5. 26\n",
       "6. 17\n",
       "7. 28\n",
       "8. 20\n",
       "9. 28\n",
       "10. 26\n",
       "11. 36\n",
       "12. 26\n",
       "13. 54\n",
       "14. 40\n",
       "15. 50\n",
       "16. 76\n",
       "17. 46\n",
       "18. 48\n",
       "19. 92\n",
       "20. 85\n",
       "\n",
       "\n"
      ],
      "text/plain": [
       " [1]  2  4 16 10 26 17 28 20 28 26 36 26 54 40 50 76 46 48 92 85"
      ]
     },
     "metadata": {},
     "output_type": "display_data"
    }
   ],
   "source": [
    "vitesse\n",
    "distance"
   ]
  },
  {
   "cell_type": "markdown",
   "id": "7509c4ad",
   "metadata": {},
   "source": [
    "Moyenne arithmetique "
   ]
  },
  {
   "cell_type": "code",
   "execution_count": 36,
   "id": "d51db568",
   "metadata": {},
   "outputs": [
    {
     "data": {
      "text/html": [
       "14"
      ],
      "text/latex": [
       "14"
      ],
      "text/markdown": [
       "14"
      ],
      "text/plain": [
       "[1] 14"
      ]
     },
     "metadata": {},
     "output_type": "display_data"
    },
    {
     "data": {
      "text/html": [
       "36.5"
      ],
      "text/latex": [
       "36.5"
      ],
      "text/markdown": [
       "36.5"
      ],
      "text/plain": [
       "[1] 36.5"
      ]
     },
     "metadata": {},
     "output_type": "display_data"
    }
   ],
   "source": [
    "moyVitess=mean(vitesse)\n",
    "moyDistance=mean(distance)\n",
    "moyVitess\n",
    "moyDistance"
   ]
  },
  {
   "cell_type": "markdown",
   "id": "28930d34",
   "metadata": {},
   "source": [
    "Calcule de la variance"
   ]
  },
  {
   "cell_type": "code",
   "execution_count": 37,
   "id": "9ba137bf",
   "metadata": {},
   "outputs": [
    {
     "data": {
      "text/html": [
       "29.7894736842105"
      ],
      "text/latex": [
       "29.7894736842105"
      ],
      "text/markdown": [
       "29.7894736842105"
      ],
      "text/plain": [
       "[1] 29.78947"
      ]
     },
     "metadata": {},
     "output_type": "display_data"
    },
    {
     "data": {
      "text/html": [
       "642.789473684211"
      ],
      "text/latex": [
       "642.789473684211"
      ],
      "text/markdown": [
       "642.789473684211"
      ],
      "text/plain": [
       "[1] 642.7895"
      ]
     },
     "metadata": {},
     "output_type": "display_data"
    }
   ],
   "source": [
    "varVitesse=var(vitesse)\n",
    "varDistance=var(distance)\n",
    "varVitesse\n",
    "varDistance"
   ]
  },
  {
   "cell_type": "markdown",
   "id": "766333f4",
   "metadata": {},
   "source": [
    "Droite de regression de la distance par rapport a la vitesse"
   ]
  },
  {
   "cell_type": "code",
   "execution_count": 46,
   "id": "5d973a80",
   "metadata": {},
   "outputs": [
    {
     "data": {
      "text/html": [
       "4.29681978798587"
      ],
      "text/latex": [
       "4.29681978798587"
      ],
      "text/markdown": [
       "4.29681978798587"
      ],
      "text/plain": [
       "[1] 4.29682"
      ]
     },
     "metadata": {},
     "output_type": "display_data"
    }
   ],
   "source": [
    "a<-cov(vitesse,distance)/var(vitesse)\n",
    "a"
   ]
  },
  {
   "cell_type": "code",
   "execution_count": 47,
   "id": "21c8aa94",
   "metadata": {},
   "outputs": [
    {
     "data": {
      "text/html": [
       "-23.6554770318021"
      ],
      "text/latex": [
       "-23.6554770318021"
      ],
      "text/markdown": [
       "-23.6554770318021"
      ],
      "text/plain": [
       "[1] -23.65548"
      ]
     },
     "metadata": {},
     "output_type": "display_data"
    }
   ],
   "source": [
    "b=mean(distance)-a*mean(vitesse)\n",
    "b"
   ]
  },
  {
   "cell_type": "markdown",
   "id": "9b2f0cfa",
   "metadata": {},
   "source": [
    "y=4.29681978798587x-23.6554770318021"
   ]
  },
  {
   "cell_type": "code",
   "execution_count": 48,
   "id": "ffae73a4",
   "metadata": {},
   "outputs": [
    {
     "data": {
      "image/png": "[encoded data removed]",
      "text/plain": [
       "plot without title"
      ]
     },
     "metadata": {},
     "output_type": "display_data"
    }
   ],
   "source": [
    "plot(vitesse,distance)\n",
    "abline(a <-a, b <-b,col = \"red\")"
   ]
  },
  {
   "cell_type": "markdown",
   "id": "31c33a41",
   "metadata": {},
   "source": [
    "Droite de regression de la vitesse par rapport a la distance"
   ]
  },
  {
   "cell_type": "code",
   "execution_count": 50,
   "id": "2b525a92",
   "metadata": {},
   "outputs": [
    {
     "data": {
      "text/html": [
       "5.02179276315789"
      ],
      "text/latex": [
       "5.02179276315789"
      ],
      "text/markdown": [
       "5.02179276315789"
      ],
      "text/plain": [
       "[1] 5.021793"
      ]
     },
     "metadata": {},
     "output_type": "display_data"
    }
   ],
   "source": [
    "ap<-cov(vitesse,distance)/var(vitesse)\n",
    "af<-1/ap\n",
    "af"
   ]
  },
  {
   "cell_type": "code",
   "execution_count": 51,
   "id": "8c7a2865",
   "metadata": {},
   "outputs": [
    {
     "data": {
      "text/html": [
       "717.282357146178"
      ],
      "text/latex": [
       "717.282357146178"
      ],
      "text/markdown": [
       "717.282357146178"
      ],
      "text/plain": [
       "[1] 717.2824"
      ]
     },
     "metadata": {},
     "output_type": "display_data"
    }
   ],
   "source": [
    "bp=mean(distance)-a*mean(distance)\n",
    "bf<-(-bp/ap)\n",
    "bf"
   ]
  },
  {
   "cell_type": "markdown",
   "id": "9309d6b7",
   "metadata": {},
   "source": [
    "y'=0.232730263157895X'-1.28126048249221"
   ]
  },
  {
   "cell_type": "code",
   "execution_count": 52,
   "id": "b5ee7e63",
   "metadata": {},
   "outputs": [
    {
     "data": {
      "image/png": "[encoded data removed]",
      "text/plain": [
       "plot without title"
      ]
     },
     "metadata": {},
     "output_type": "display_data"
    }
   ],
   "source": [
    "plot(vitesse,distance)\n",
    "abline(a <-af, b <-bf,col = \"red\")"
   ]
  },
  {
   "cell_type": "markdown",
   "id": "bbb6fe89",
   "metadata": {},
   "source": [
    "Coeificiant de corrélation "
   ]
  },
  {
   "cell_type": "code",
   "execution_count": 55,
   "id": "c35385d3",
   "metadata": {},
   "outputs": [
    {
     "data": {
      "text/html": [
       "0.92500520486813"
      ],
      "text/latex": [
       "0.92500520486813"
      ],
      "text/markdown": [
       "0.92500520486813"
      ],
      "text/plain": [
       "[1] 0.9250052"
      ]
     },
     "metadata": {},
     "output_type": "display_data"
    }
   ],
   "source": [
    "cor(vitesse,distance)"
   ]
  },
  {
   "cell_type": "code",
   "execution_count": null,
   "id": "ab39be30",
   "metadata": {},
   "outputs": [],
   "source": []
  },
  {
   "cell_type": "code",
   "execution_count": null,
   "id": "3feda9f0",
   "metadata": {},
   "outputs": [],
   "source": []
  }
 ],
 "metadata": {
  "kernelspec": {
   "display_name": "R",
   "language": "R",
   "name": "ir"
  },
  "language_info": {
   "codemirror_mode": "r",
   "file_extension": ".r",
   "mimetype": "text/x-r-source",
   "name": "R",
   "pygments_lexer": "r",
   "version": "3.6.1"
  }
 },
 "nbformat": 4,
 "nbformat_minor": 5
}
