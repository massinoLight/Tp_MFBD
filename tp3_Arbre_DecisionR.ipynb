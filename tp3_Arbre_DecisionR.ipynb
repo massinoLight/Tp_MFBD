{
  "nbformat": 4,
  "nbformat_minor": 0,
  "metadata": {
    "colab": {
      "name": "tp3_Arbre_DecisionR.ipynb",
      "provenance": [],
      "collapsed_sections": [],
      "authorship_tag": "ABX9TyNmJ05L+H6jA8vPtGSUZ8PB",
      "include_colab_link": true
    },
    "kernelspec": {
      "name": "ir",
      "display_name": "R"
    },
    "language_info": {
      "name": "R"
    }
  },
  "cells": [
    {
      "cell_type": "markdown",
      "metadata": {
        "id": "view-in-github",
        "colab_type": "text"
      },
      "source": [
        "<a href=\"https://colab.research.google.com/github/massinoLight/Tp_MFBD/blob/main/tp3_Arbre_DecisionR.ipynb\" target=\"_parent\"><img src=\"https://colab.research.google.com/assets/colab-badge.svg\" alt=\"Open In Colab\"/></a>"
      ]
    },
    {
      "cell_type": "code",
      "metadata": {
        "colab": {
          "base_uri": "https://localhost:8080/"
        },
        "id": "nyO1UFqSAdTG",
        "outputId": "8e268b08-e647-45c3-de16-a4489b54a7d9"
      },
      "source": [
        "install.packages(\"rpart.plot\")\n",
        "library(rpart)# Pour l’arbre de décision\n",
        "library(\"rpart.plot\") # Pour la représentation de l’arbre de décision"
      ],
      "execution_count": null,
      "outputs": [
        {
          "output_type": "stream",
          "name": "stderr",
          "text": [
            "Installing package into ‘/usr/local/lib/R/site-library’\n",
            "(as ‘lib’ is unspecified)\n",
            "\n"
          ]
        }
      ]
    },
    {
      "cell_type": "code",
      "metadata": {
        "colab": {
          "base_uri": "https://localhost:8080/",
          "height": 286
        },
        "id": "uao42k2-DHSq",
        "outputId": "17c74cd7-11b5-4235-d93c-ae5957e50f8f"
      },
      "source": [
        "barbecue <- read.csv(file = '/content/barbecuedata.csv')\n",
        "head(barbecue)"
      ],
      "execution_count": null,
      "outputs": [
        {
          "output_type": "display_data",
          "data": {
            "text/plain": [
              "  Meteo.Amis..Vent.Jours.Decision  \n",
              "1 soleil;presents;faible;week-end;1\n",
              "2 soleil;absents;fort;semaine;0    \n",
              "3 soleil;presents;fort;semaine;0   \n",
              "4 soleil;absents;faible;semaine;1  \n",
              "5 nuages;absents;faible;week-end;0 \n",
              "6 nuages;presents;fort;week-end;0  "
            ],
            "text/latex": "A data.frame: 6 × 1\n\\begin{tabular}{r|l}\n  & Meteo.Amis..Vent.Jours.Decision\\\\\n  & <chr>\\\\\n\\hline\n\t1 & soleil;presents;faible;week-end;1\\\\\n\t2 & soleil;absents;fort;semaine;0    \\\\\n\t3 & soleil;presents;fort;semaine;0   \\\\\n\t4 & soleil;absents;faible;semaine;1  \\\\\n\t5 & nuages;absents;faible;week-end;0 \\\\\n\t6 & nuages;presents;fort;week-end;0  \\\\\n\\end{tabular}\n",
            "text/markdown": "\nA data.frame: 6 × 1\n\n| <!--/--> | Meteo.Amis..Vent.Jours.Decision &lt;chr&gt; |\n|---|---|\n| 1 | soleil;presents;faible;week-end;1 |\n| 2 | soleil;absents;fort;semaine;0     |\n| 3 | soleil;presents;fort;semaine;0    |\n| 4 | soleil;absents;faible;semaine;1   |\n| 5 | nuages;absents;faible;week-end;0  |\n| 6 | nuages;presents;fort;week-end;0   |\n\n",
            "text/html": [
              "<table class=\"dataframe\">\n",
              "<caption>A data.frame: 6 × 1</caption>\n",
              "<thead>\n",
              "\t<tr><th></th><th scope=col>Meteo.Amis..Vent.Jours.Decision</th></tr>\n",
              "\t<tr><th></th><th scope=col>&lt;chr&gt;</th></tr>\n",
              "</thead>\n",
              "<tbody>\n",
              "\t<tr><th scope=row>1</th><td>soleil;presents;faible;week-end;1</td></tr>\n",
              "\t<tr><th scope=row>2</th><td>soleil;absents;fort;semaine;0    </td></tr>\n",
              "\t<tr><th scope=row>3</th><td>soleil;presents;fort;semaine;0   </td></tr>\n",
              "\t<tr><th scope=row>4</th><td>soleil;absents;faible;semaine;1  </td></tr>\n",
              "\t<tr><th scope=row>5</th><td>nuages;absents;faible;week-end;0 </td></tr>\n",
              "\t<tr><th scope=row>6</th><td>nuages;presents;fort;week-end;0  </td></tr>\n",
              "</tbody>\n",
              "</table>\n"
            ]
          },
          "metadata": {}
        }
      ]
    },
    {
      "cell_type": "code",
      "metadata": {
        "colab": {
          "base_uri": "https://localhost:8080/",
          "height": 90
        },
        "id": "IxTnDE0lDKeW",
        "outputId": "ae1af9bd-9c29-43ef-ec80-680153eee120"
      },
      "source": [
        "summary(barbecue)"
      ],
      "execution_count": null,
      "outputs": [
        {
          "output_type": "display_data",
          "data": {
            "text/plain": [
              " Meteo.Amis..Vent.Jours.Decision\n",
              " Length:9                       \n",
              " Class :character               \n",
              " Mode  :character               "
            ]
          },
          "metadata": {}
        }
      ]
    },
    {
      "cell_type": "code",
      "metadata": {
        "colab": {
          "base_uri": "https://localhost:8080/",
          "height": 34
        },
        "id": "XeGIDFfBDSBJ",
        "outputId": "9e9f6f28-07fa-482a-e16e-0e4a8c9e8356"
      },
      "source": [
        "typeof(barbecue)"
      ],
      "execution_count": null,
      "outputs": [
        {
          "output_type": "display_data",
          "data": {
            "text/plain": [
              "[1] \"list\""
            ],
            "text/latex": "'list'",
            "text/markdown": "'list'",
            "text/html": [
              "'list'"
            ]
          },
          "metadata": {}
        }
      ]
    },
    {
      "cell_type": "code",
      "metadata": {
        "colab": {
          "base_uri": "https://localhost:8080/",
          "height": 380
        },
        "id": "szVyONMzDriz",
        "outputId": "cb081eca-1db1-49e7-f857-2e7ad9981ae4"
      },
      "source": [
        "barbecue"
      ],
      "execution_count": null,
      "outputs": [
        {
          "output_type": "display_data",
          "data": {
            "text/plain": [
              "  Meteo.Amis..Vent.Jours.Decision  \n",
              "1 soleil;presents;faible;week-end;1\n",
              "2 soleil;absents;fort;semaine;0    \n",
              "3 soleil;presents;fort;semaine;0   \n",
              "4 soleil;absents;faible;semaine;1  \n",
              "5 nuages;absents;faible;week-end;0 \n",
              "6 nuages;presents;fort;week-end;0  \n",
              "7 nuages;absents;fort;semaine;0    \n",
              "8 nuages;presents;faible;week-end;1\n",
              "9 soleil;absents;faible;week-end;0 "
            ],
            "text/latex": "A data.frame: 9 × 1\n\\begin{tabular}{l}\n Meteo.Amis..Vent.Jours.Decision\\\\\n <chr>\\\\\n\\hline\n\t soleil;presents;faible;week-end;1\\\\\n\t soleil;absents;fort;semaine;0    \\\\\n\t soleil;presents;fort;semaine;0   \\\\\n\t soleil;absents;faible;semaine;1  \\\\\n\t nuages;absents;faible;week-end;0 \\\\\n\t nuages;presents;fort;week-end;0  \\\\\n\t nuages;absents;fort;semaine;0    \\\\\n\t nuages;presents;faible;week-end;1\\\\\n\t soleil;absents;faible;week-end;0 \\\\\n\\end{tabular}\n",
            "text/markdown": "\nA data.frame: 9 × 1\n\n| Meteo.Amis..Vent.Jours.Decision &lt;chr&gt; |\n|---|\n| soleil;presents;faible;week-end;1 |\n| soleil;absents;fort;semaine;0     |\n| soleil;presents;fort;semaine;0    |\n| soleil;absents;faible;semaine;1   |\n| nuages;absents;faible;week-end;0  |\n| nuages;presents;fort;week-end;0   |\n| nuages;absents;fort;semaine;0     |\n| nuages;presents;faible;week-end;1 |\n| soleil;absents;faible;week-end;0  |\n\n",
            "text/html": [
              "<table class=\"dataframe\">\n",
              "<caption>A data.frame: 9 × 1</caption>\n",
              "<thead>\n",
              "\t<tr><th scope=col>Meteo.Amis..Vent.Jours.Decision</th></tr>\n",
              "\t<tr><th scope=col>&lt;chr&gt;</th></tr>\n",
              "</thead>\n",
              "<tbody>\n",
              "\t<tr><td>soleil;presents;faible;week-end;1</td></tr>\n",
              "\t<tr><td>soleil;absents;fort;semaine;0    </td></tr>\n",
              "\t<tr><td>soleil;presents;fort;semaine;0   </td></tr>\n",
              "\t<tr><td>soleil;absents;faible;semaine;1  </td></tr>\n",
              "\t<tr><td>nuages;absents;faible;week-end;0 </td></tr>\n",
              "\t<tr><td>nuages;presents;fort;week-end;0  </td></tr>\n",
              "\t<tr><td>nuages;absents;fort;semaine;0    </td></tr>\n",
              "\t<tr><td>nuages;presents;faible;week-end;1</td></tr>\n",
              "\t<tr><td>soleil;absents;faible;week-end;0 </td></tr>\n",
              "</tbody>\n",
              "</table>\n"
            ]
          },
          "metadata": {}
        }
      ]
    },
    {
      "cell_type": "code",
      "metadata": {
        "id": "gx0OvDslNzrq"
      },
      "source": [
        "meteo = c('soleil','soleil','soleil','soleil','nuages','nuages','nuages','nuages','soleil')\n",
        "amis = c('présents','absents', 'présents', 'absents', 'absents', 'présents', 'absents', 'présents','absents')\n",
        "vent = c('faible','fort','fort','faible','faible','fort','fort','faible','faible')\n",
        "jour = c('week-end', 'semaine', 'semaine', 'semaine', 'week-end', 'week-end', 'semaine', 'week-end', 'week-end')\n",
        "decision = c('oui', 'non', 'non', 'oui', 'non', 'non','non', 'oui', 'non')"
      ],
      "execution_count": null,
      "outputs": []
    },
    {
      "cell_type": "code",
      "metadata": {
        "colab": {
          "base_uri": "https://localhost:8080/",
          "height": 380
        },
        "id": "G5BPGjaLN4k2",
        "outputId": "5241016e-f118-451b-cca4-f886b2f751f3"
      },
      "source": [
        "barbecue = data.frame(meteo,amis,vent,jour,decision)\n",
        "barbecue"
      ],
      "execution_count": null,
      "outputs": [
        {
          "output_type": "display_data",
          "data": {
            "text/plain": [
              "  meteo  amis     vent   jour     decision\n",
              "1 soleil présents faible week-end oui     \n",
              "2 soleil absents  fort   semaine  non     \n",
              "3 soleil présents fort   semaine  non     \n",
              "4 soleil absents  faible semaine  oui     \n",
              "5 nuages absents  faible week-end non     \n",
              "6 nuages présents fort   week-end non     \n",
              "7 nuages absents  fort   semaine  non     \n",
              "8 nuages présents faible week-end oui     \n",
              "9 soleil absents  faible week-end non     "
            ],
            "text/latex": "A data.frame: 9 × 5\n\\begin{tabular}{lllll}\n meteo & amis & vent & jour & decision\\\\\n <chr> & <chr> & <chr> & <chr> & <chr>\\\\\n\\hline\n\t soleil & présents & faible & week-end & oui\\\\\n\t soleil & absents  & fort   & semaine  & non\\\\\n\t soleil & présents & fort   & semaine  & non\\\\\n\t soleil & absents  & faible & semaine  & oui\\\\\n\t nuages & absents  & faible & week-end & non\\\\\n\t nuages & présents & fort   & week-end & non\\\\\n\t nuages & absents  & fort   & semaine  & non\\\\\n\t nuages & présents & faible & week-end & oui\\\\\n\t soleil & absents  & faible & week-end & non\\\\\n\\end{tabular}\n",
            "text/markdown": "\nA data.frame: 9 × 5\n\n| meteo &lt;chr&gt; | amis &lt;chr&gt; | vent &lt;chr&gt; | jour &lt;chr&gt; | decision &lt;chr&gt; |\n|---|---|---|---|---|\n| soleil | présents | faible | week-end | oui |\n| soleil | absents  | fort   | semaine  | non |\n| soleil | présents | fort   | semaine  | non |\n| soleil | absents  | faible | semaine  | oui |\n| nuages | absents  | faible | week-end | non |\n| nuages | présents | fort   | week-end | non |\n| nuages | absents  | fort   | semaine  | non |\n| nuages | présents | faible | week-end | oui |\n| soleil | absents  | faible | week-end | non |\n\n",
            "text/html": [
              "<table class=\"dataframe\">\n",
              "<caption>A data.frame: 9 × 5</caption>\n",
              "<thead>\n",
              "\t<tr><th scope=col>meteo</th><th scope=col>amis</th><th scope=col>vent</th><th scope=col>jour</th><th scope=col>decision</th></tr>\n",
              "\t<tr><th scope=col>&lt;chr&gt;</th><th scope=col>&lt;chr&gt;</th><th scope=col>&lt;chr&gt;</th><th scope=col>&lt;chr&gt;</th><th scope=col>&lt;chr&gt;</th></tr>\n",
              "</thead>\n",
              "<tbody>\n",
              "\t<tr><td>soleil</td><td>présents</td><td>faible</td><td>week-end</td><td>oui</td></tr>\n",
              "\t<tr><td>soleil</td><td>absents </td><td>fort  </td><td>semaine </td><td>non</td></tr>\n",
              "\t<tr><td>soleil</td><td>présents</td><td>fort  </td><td>semaine </td><td>non</td></tr>\n",
              "\t<tr><td>soleil</td><td>absents </td><td>faible</td><td>semaine </td><td>oui</td></tr>\n",
              "\t<tr><td>nuages</td><td>absents </td><td>faible</td><td>week-end</td><td>non</td></tr>\n",
              "\t<tr><td>nuages</td><td>présents</td><td>fort  </td><td>week-end</td><td>non</td></tr>\n",
              "\t<tr><td>nuages</td><td>absents </td><td>fort  </td><td>semaine </td><td>non</td></tr>\n",
              "\t<tr><td>nuages</td><td>présents</td><td>faible</td><td>week-end</td><td>oui</td></tr>\n",
              "\t<tr><td>soleil</td><td>absents </td><td>faible</td><td>week-end</td><td>non</td></tr>\n",
              "</tbody>\n",
              "</table>\n"
            ]
          },
          "metadata": {}
        }
      ]
    },
    {
      "cell_type": "markdown",
      "metadata": {
        "id": "7T4horUKPCTu"
      },
      "source": [
        "nous n'avons pas assez de données pour pouvoir diviser en données de test et d'entrainement mais c'est une bonne pratique "
      ]
    },
    {
      "cell_type": "code",
      "metadata": {
        "id": "6nLXWAVfJKYO"
      },
      "source": [
        "#Création d’un dataset d’apprentissage et d’un dataset de validation\n",
        "nb_lignes <- floor((nrow(barbecue)*0.75)) #Nombre de lignes de l’échantillon d’apprentissage : 75% du dataset"
      ],
      "execution_count": null,
      "outputs": []
    },
    {
      "cell_type": "code",
      "metadata": {
        "id": "2QJ5PDTWJRsU"
      },
      "source": [
        "\n",
        "barbecue.train <- barbecue[1:nb_lignes, ] #Echantillon d’apprentissage\n",
        "barbecue.test <- barbecue[(nb_lignes+1):nrow(barbecue), ] #Echantillon de test"
      ],
      "execution_count": null,
      "outputs": []
    },
    {
      "cell_type": "code",
      "metadata": {
        "colab": {
          "base_uri": "https://localhost:8080/",
          "height": 237
        },
        "id": "-tARYpBWK6f8",
        "outputId": "427d9039-5d28-4be0-834e-6a4257344f1a"
      },
      "source": [
        "#Construction de l’arbre\n",
        "Tree = rpart(decision~., data = barbecue, method='class', control=rpart.control(minsplit=2,cp=0))\n",
        "Tree"
      ],
      "execution_count": null,
      "outputs": [
        {
          "output_type": "display_data",
          "data": {
            "text/plain": [
              "n= 9 \n",
              "\n",
              "node), split, n, loss, yval, (yprob)\n",
              "      * denotes terminal node\n",
              "\n",
              " 1) root 9 3 non (0.6666667 0.3333333)  \n",
              "   2) vent=fort 4 0 non (1.0000000 0.0000000) *\n",
              "   3) vent=faible 5 2 oui (0.4000000 0.6000000)  \n",
              "     6) amis=absents 3 1 non (0.6666667 0.3333333)  \n",
              "      12) jour=week-end 2 0 non (1.0000000 0.0000000) *\n",
              "      13) jour=semaine 1 0 oui (0.0000000 1.0000000) *\n",
              "     7) amis=présents 2 0 oui (0.0000000 1.0000000) *"
            ]
          },
          "metadata": {}
        }
      ]
    },
    {
      "cell_type": "code",
      "metadata": {
        "colab": {
          "base_uri": "https://localhost:8080/",
          "height": 437
        },
        "id": "uBV9tYkJO3I6",
        "outputId": "a0c1d271-bec6-4aab-8faa-816f1dbdac48"
      },
      "source": [
        "rpart.plot(Tree)"
      ],
      "execution_count": null,
      "outputs": [
        {
          "output_type": "display_data",
          "data": {
            "image/png": "[encoded data removed]",
            "text/plain": [
              "plot without title"
            ]
          },
          "metadata": {
            "image/png": {
              "width": 420,
              "height": 420
            }
          }
        }
      ]
    }
  ]
}