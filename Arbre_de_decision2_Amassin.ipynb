{
  "nbformat": 4,
  "nbformat_minor": 0,
  "metadata": {
    "colab": {
      "name": "Arbre_de_decision2_Amassin.ipynb",
      "provenance": [],
      "authorship_tag": "ABX9TyOTwXl0T2oOkcmrlDXjeU3X",
      "include_colab_link": true
    },
    "kernelspec": {
      "name": "ir",
      "display_name": "R"
    },
    "language_info": {
      "name": "R"
    }
  },
  "cells": [
    {
      "cell_type": "markdown",
      "metadata": {
        "id": "view-in-github",
        "colab_type": "text"
      },
      "source": [
        "<a href=\"https://colab.research.google.com/github/massinoLight/Tp_MFBD/blob/main/Arbre_de_decision2_Amassin.ipynb\" target=\"_parent\"><img src=\"https://colab.research.google.com/assets/colab-badge.svg\" alt=\"Open In Colab\"/></a>"
      ]
    },
    {
      "cell_type": "code",
      "execution_count": 1,
      "metadata": {
        "colab": {
          "base_uri": "https://localhost:8080/"
        },
        "id": "pFL3zTuj0roG",
        "outputId": "0a8017db-8bb1-4093-df05-ce1408e07c51"
      },
      "outputs": [
        {
          "metadata": {
            "tags": null
          },
          "name": "stderr",
          "output_type": "stream",
          "text": [
            "Installing package into ‘/usr/local/lib/R/site-library’\n",
            "(as ‘lib’ is unspecified)\n",
            "\n",
            "Installing package into ‘/usr/local/lib/R/site-library’\n",
            "(as ‘lib’ is unspecified)\n",
            "\n",
            "also installing the dependencies ‘ipred’, ‘pROC’, ‘recipes’, ‘reshape2’\n",
            "\n",
            "\n"
          ]
        }
      ],
      "source": [
        "install.packages(\"rpart.plot\")\n",
        "install.packages(\"caret\")\n"
      ]
    },
    {
      "cell_type": "code",
      "source": [
        "library(rpart)\n",
        "library(rpart.plot)\n",
        "library(\"readxl\")\n",
        "library(caret) "
      ],
      "metadata": {
        "colab": {
          "base_uri": "https://localhost:8080/"
        },
        "id": "NxP8y7Kr3sqp",
        "outputId": "af2d1375-40b7-41f2-a69a-6fb270ed3205"
      },
      "execution_count": 2,
      "outputs": [
        {
          "output_type": "stream",
          "name": "stderr",
          "text": [
            "Loading required package: ggplot2\n",
            "\n",
            "Loading required package: lattice\n",
            "\n",
            "Warning message in system(\"timedatectl\", intern = TRUE):\n",
            "“running command 'timedatectl' had status 1”\n"
          ]
        }
      ]
    },
    {
      "cell_type": "code",
      "source": [
        "md <- read_excel(\"/content/TreeSet2.xlsx\")\n",
        "show(md)\n",
        "\n",
        "# Factorisation\n",
        "md <- md[,c(\"meteo\",\"amis\",\"vent\",\"jour\",\"DEC\")]\n",
        "md$DEC <- as.factor(md$DEC)\n",
        "md$meteo <- as.factor(md$meteo)\n",
        "md$amis <- as.factor(md$amis)\n",
        "md$vent <- as.factor(md$vent)\n",
        "md$jour <- as.factor(md$jour)\n",
        "\n",
        "str(md)\n",
        "summary(md)\n",
        "show (md)"
      ],
      "metadata": {
        "colab": {
          "base_uri": "https://localhost:8080/",
          "height": 807
        },
        "id": "VcOn6GIv07VJ",
        "outputId": "126448e4-6799-44f2-d864-a64ac519928f"
      },
      "execution_count": 3,
      "outputs": [
        {
          "output_type": "stream",
          "name": "stdout",
          "text": [
            "\u001b[90m# A tibble: 14 × 5\u001b[39m\n",
            "   meteo  amis  vent   jour  DEC  \n",
            "   \u001b[3m\u001b[90m<chr>\u001b[39m\u001b[23m  \u001b[3m\u001b[90m<chr>\u001b[39m\u001b[23m \u001b[3m\u001b[90m<chr>\u001b[39m\u001b[23m  \u001b[3m\u001b[90m<chr>\u001b[39m\u001b[23m \u001b[3m\u001b[90m<chr>\u001b[39m\u001b[23m\n",
            "\u001b[90m 1\u001b[39m soleil pr    faible we    oui  \n",
            "\u001b[90m 2\u001b[39m soleil ab    fort   sem   non  \n",
            "\u001b[90m 3\u001b[39m soleil pr    fort   sem   non  \n",
            "\u001b[90m 4\u001b[39m soleil ab    faible sem   oui  \n",
            "\u001b[90m 5\u001b[39m nua    ab    faible we    non  \n",
            "\u001b[90m 6\u001b[39m nua    pr    fort   we    non  \n",
            "\u001b[90m 7\u001b[39m nua    ab    fort   sem   non  \n",
            "\u001b[90m 8\u001b[39m nua    pr    faible we    oui  \n",
            "\u001b[90m 9\u001b[39m soleil ab    faible we    non  \n",
            "\u001b[90m10\u001b[39m soleil pr    fort   we    non  \n",
            "\u001b[90m11\u001b[39m nua    ab    faible sem   non  \n",
            "\u001b[90m12\u001b[39m soleil pr    faible we    oui  \n",
            "\u001b[90m13\u001b[39m soleil ab    faible sem   non  \n",
            "\u001b[90m14\u001b[39m nua    pr    faible sem   oui  \n",
            "tibble [14 × 5] (S3: tbl_df/tbl/data.frame)\n",
            " $ meteo: Factor w/ 2 levels \"nua\",\"soleil\": 2 2 2 2 1 1 1 1 2 2 ...\n",
            " $ amis : Factor w/ 2 levels \"ab\",\"pr\": 2 1 2 1 1 2 1 2 1 2 ...\n",
            " $ vent : Factor w/ 2 levels \"faible\",\"fort\": 1 2 2 1 1 2 2 1 1 2 ...\n",
            " $ jour : Factor w/ 2 levels \"sem\",\"we\": 2 1 1 1 2 2 1 2 2 2 ...\n",
            " $ DEC  : Factor w/ 2 levels \"non\",\"oui\": 2 1 1 2 1 1 1 2 1 1 ...\n"
          ]
        },
        {
          "output_type": "display_data",
          "data": {
            "text/plain": [
              "    meteo   amis       vent    jour    DEC   \n",
              " nua   :6   ab:7   faible:9   sem:7   non:9  \n",
              " soleil:8   pr:7   fort  :5   we :7   oui:5  "
            ]
          },
          "metadata": {}
        },
        {
          "output_type": "stream",
          "name": "stdout",
          "text": [
            "\u001b[90m# A tibble: 14 × 5\u001b[39m\n",
            "   meteo  amis  vent   jour  DEC  \n",
            "   \u001b[3m\u001b[90m<fct>\u001b[39m\u001b[23m  \u001b[3m\u001b[90m<fct>\u001b[39m\u001b[23m \u001b[3m\u001b[90m<fct>\u001b[39m\u001b[23m  \u001b[3m\u001b[90m<fct>\u001b[39m\u001b[23m \u001b[3m\u001b[90m<fct>\u001b[39m\u001b[23m\n",
            "\u001b[90m 1\u001b[39m soleil pr    faible we    oui  \n",
            "\u001b[90m 2\u001b[39m soleil ab    fort   sem   non  \n",
            "\u001b[90m 3\u001b[39m soleil pr    fort   sem   non  \n",
            "\u001b[90m 4\u001b[39m soleil ab    faible sem   oui  \n",
            "\u001b[90m 5\u001b[39m nua    ab    faible we    non  \n",
            "\u001b[90m 6\u001b[39m nua    pr    fort   we    non  \n",
            "\u001b[90m 7\u001b[39m nua    ab    fort   sem   non  \n",
            "\u001b[90m 8\u001b[39m nua    pr    faible we    oui  \n",
            "\u001b[90m 9\u001b[39m soleil ab    faible we    non  \n",
            "\u001b[90m10\u001b[39m soleil pr    fort   we    non  \n",
            "\u001b[90m11\u001b[39m nua    ab    faible sem   non  \n",
            "\u001b[90m12\u001b[39m soleil pr    faible we    oui  \n",
            "\u001b[90m13\u001b[39m soleil ab    faible sem   non  \n",
            "\u001b[90m14\u001b[39m nua    pr    faible sem   oui  \n"
          ]
        }
      ]
    },
    {
      "cell_type": "code",
      "source": [
        "train <- createDataPartition(md$DEC,p=0.75,list=FALSE)\n",
        "mdtr <- md[train,]\n",
        "mdts <- md[-train,]"
      ],
      "metadata": {
        "id": "Ev4zI-HL1Wrf"
      },
      "execution_count": 4,
      "outputs": []
    },
    {
      "cell_type": "code",
      "source": [
        "# Modele sur les données train\n",
        "ftree <- rpart(DEC ~., data =mdtr,method=\"class\", control=rpart.control(minsplit=0.0001, mindepth = 4,cp= -2))\n",
        "\n",
        "#Arbre\n",
        "rpart.plot(ftree, extra = 10)\n",
        "\n",
        "#Affichage des regles de construction\n",
        "print(ftree)"
      ],
      "metadata": {
        "colab": {
          "base_uri": "https://localhost:8080/",
          "height": 621
        },
        "id": "dGcMwC5X1eT8",
        "outputId": "62552864-1f56-4176-fe6c-4d5a096ece35"
      },
      "execution_count": 5,
      "outputs": [
        {
          "output_type": "stream",
          "name": "stdout",
          "text": [
            "n= 11 \n",
            "\n",
            "node), split, n, loss, yval, (yprob)\n",
            "      * denotes terminal node\n",
            "\n",
            "1) root 11 4 non (0.6363636 0.3636364)  \n",
            "  2) amis=ab 4 0 non (1.0000000 0.0000000) *\n",
            "  3) amis=pr 7 3 oui (0.4285714 0.5714286)  \n",
            "    6) vent=fort 3 0 non (1.0000000 0.0000000) *\n",
            "    7) vent=faible 4 0 oui (0.0000000 1.0000000) *\n"
          ]
        },
        {
          "output_type": "display_data",
          "data": {
            "image/png": "[encoded data removed]",
            "text/plain": [
              "plot without title"
            ]
          },
          "metadata": {
            "image/png": {
              "width": 420,
              "height": 420
            }
          }
        }
      ]
    },
    {
      "cell_type": "code",
      "source": [
        "#Affichage du resultat de donnees coisees\n",
        "printcp(ftree)\n",
        "\n",
        "cpp <- ftree$cptable[which.min(ftree$cptable[,4]),1]\n",
        "\n",
        "#Elagage de cp \n",
        "mtt <- prune(ftree, cp=cpp)\n",
        "\n",
        "#Affichage cp optimal \n",
        "print(cpp)"
      ],
      "metadata": {
        "colab": {
          "base_uri": "https://localhost:8080/"
        },
        "id": "1h6TrR-54YzH",
        "outputId": "eee2db15-666e-481a-da1d-7256e7de03ed"
      },
      "execution_count": 6,
      "outputs": [
        {
          "output_type": "stream",
          "name": "stdout",
          "text": [
            "\n",
            "Classification tree:\n",
            "rpart(formula = DEC ~ ., data = mdtr, method = \"class\", control = rpart.control(minsplit = 1e-04, \n",
            "    mindepth = 4, cp = -2))\n",
            "\n",
            "Variables actually used in tree construction:\n",
            "[1] amis vent\n",
            "\n",
            "Root node error: 4/11 = 0.36364\n",
            "\n",
            "n= 11 \n",
            "\n",
            "    CP nsplit rel error xerror    xstd\n",
            "1  0.5      0         1      1 0.39886\n",
            "2 -2.0      2         0      1 0.39886\n",
            "[1] 0.5\n"
          ]
        }
      ]
    },
    {
      "cell_type": "code",
      "source": [
        "#Arbre\n",
        "rpart.plot(mtt, extra = 10)\n",
        "\n",
        "\n",
        "#Affichage du resultat de donnees coisees\n",
        "printcp(mtt)\n",
        "\n",
        "\n",
        "############# PREVISIONS\n",
        "\n",
        "#Prediction\n",
        "predi<-  predict(mtt, mdts, type = \"class\")\n",
        "\n",
        "#Matrice de confusion\n",
        "confusionMatrix(table(mdts$DEC,predi))\n",
        "\n",
        "#Arbre final\n",
        "rpart.plot(mtt)"
      ],
      "metadata": {
        "colab": {
          "base_uri": "https://localhost:8080/",
          "height": 1000
        },
        "id": "PzC4c2h33nQs",
        "outputId": "5ede81ed-a1c3-498b-d9be-c9dd432f6327"
      },
      "execution_count": 7,
      "outputs": [
        {
          "output_type": "stream",
          "name": "stdout",
          "text": [
            "\n",
            "Classification tree:\n",
            "rpart(formula = DEC ~ ., data = mdtr, method = \"class\", control = rpart.control(minsplit = 1e-04, \n",
            "    mindepth = 4, cp = -2))\n",
            "\n",
            "Variables actually used in tree construction:\n",
            "character(0)\n",
            "\n",
            "Root node error: 4/11 = 0.36364\n",
            "\n",
            "n= 11 \n",
            "\n",
            "   CP nsplit rel error xerror    xstd\n",
            "1 0.5      0         1      1 0.39886\n"
          ]
        },
        {
          "output_type": "display_data",
          "data": {
            "text/plain": [
              "Confusion Matrix and Statistics\n",
              "\n",
              "     predi\n",
              "      non oui\n",
              "  non   2   0\n",
              "  oui   1   0\n",
              "                                          \n",
              "               Accuracy : 0.6667          \n",
              "                 95% CI : (0.0943, 0.9916)\n",
              "    No Information Rate : 1               \n",
              "    P-Value [Acc > NIR] : 1               \n",
              "                                          \n",
              "                  Kappa : 0               \n",
              "                                          \n",
              " Mcnemar's Test P-Value : 1               \n",
              "                                          \n",
              "            Sensitivity : 0.6667          \n",
              "            Specificity :     NA          \n",
              "         Pos Pred Value :     NA          \n",
              "         Neg Pred Value :     NA          \n",
              "             Prevalence : 1.0000          \n",
              "         Detection Rate : 0.6667          \n",
              "   Detection Prevalence : 0.6667          \n",
              "      Balanced Accuracy :     NA          \n",
              "                                          \n",
              "       'Positive' Class : non             \n",
              "                                          "
            ]
          },
          "metadata": {}
        },
        {
          "output_type": "display_data",
          "data": {
            "image/png": "[encoded data removed]",
            "text/plain": [
              "plot without title"
            ]
          },
          "metadata": {
            "image/png": {
              "width": 420,
              "height": 420
            }
          }
        },
        {
          "output_type": "display_data",
          "data": {
            "image/png": "[encoded data removed]",
            "text/plain": [
              "plot without title"
            ]
          },
          "metadata": {
            "image/png": {
              "width": 420,
              "height": 420
            }
          }
        }
      ]
    }
  ]
}