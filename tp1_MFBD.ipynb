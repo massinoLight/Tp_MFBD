{
  "nbformat": 4,
  "nbformat_minor": 0,
  "metadata": {
    "colab": {
      "name": "tp1_MFBD.ipynb",
      "provenance": [],
      "collapsed_sections": [],
      "authorship_tag": "ABX9TyMv5m/9JgKRqp5iD06IL44T",
      "include_colab_link": true
    },
    "kernelspec": {
      "name": "python3",
      "display_name": "Python 3"
    },
    "language_info": {
      "name": "python"
    }
  },
  "cells": [
    {
      "cell_type": "markdown",
      "metadata": {
        "id": "view-in-github",
        "colab_type": "text"
      },
      "source": [
        "<a href=\"https://colab.research.google.com/github/massinoLight/Tp_MFBD/blob/main/tp1_MFBD.ipynb\" target=\"_parent\"><img src=\"https://colab.research.google.com/assets/colab-badge.svg\" alt=\"Open In Colab\"/></a>"
      ]
    },
    {
      "cell_type": "code",
      "metadata": {
        "id": "VhbehfpZ37rj"
      },
      "source": [
        "X=[43,29,57,45 ,50, 29, 37, 59 ,46, 31, 46, 24, 33, 38, 49, 31,\n",
        "62, 60, 52, 38, 38, 26, 41, 52, 60, 49, 52, 41, 38, 26, 37, 59,\n",
        "57, 41, 29, 33, 33, 43, 46, 57, 46, 33, 46, 49, 57, 57, 46, 43]"
      ],
      "execution_count": 1,
      "outputs": []
    },
    {
      "cell_type": "code",
      "metadata": {
        "colab": {
          "base_uri": "https://localhost:8080/"
        },
        "id": "uYly_GUKqwv7",
        "outputId": "b23fc58d-80ce-4502-c9af-c61345348ee9"
      },
      "source": [
        "type(X)"
      ],
      "execution_count": 2,
      "outputs": [
        {
          "output_type": "execute_result",
          "data": {
            "text/plain": [
              "list"
            ]
          },
          "metadata": {},
          "execution_count": 2
        }
      ]
    },
    {
      "cell_type": "code",
      "metadata": {
        "colab": {
          "base_uri": "https://localhost:8080/"
        },
        "id": "Cctbx5fYvAm6",
        "outputId": "d4a6eefb-b795-4907-df4f-d1b76aece9e1"
      },
      "source": [
        "resultantList = []\n",
        " \n",
        "for element in X:\n",
        "    if element not in resultantList:\n",
        "        resultantList.append(element)\n",
        "\n",
        "\n",
        "X1=sorted(resultantList)\n",
        "X1"
      ],
      "execution_count": 23,
      "outputs": [
        {
          "output_type": "execute_result",
          "data": {
            "text/plain": [
              "[24, 26, 29, 31, 33, 37, 38, 41, 43, 45, 46, 49, 50, 52, 57, 59, 60, 62]"
            ]
          },
          "metadata": {},
          "execution_count": 23
        }
      ]
    },
    {
      "cell_type": "markdown",
      "metadata": {
        "id": "oMT2ur8vr14r"
      },
      "source": [
        "Nombre d'ocurence (effectif)"
      ]
    },
    {
      "cell_type": "code",
      "metadata": {
        "colab": {
          "base_uri": "https://localhost:8080/"
        },
        "id": "MHbz6vAxq0et",
        "outputId": "4b5a5e07-84ee-4079-a895-f94ddb1f59a2"
      },
      "source": [
        "from collections import Counter\n",
        "l=Counter(X).most_common()\n",
        "ll=sorted(l)\n",
        "ll"
      ],
      "execution_count": 30,
      "outputs": [
        {
          "output_type": "execute_result",
          "data": {
            "text/plain": [
              "[(24, 1),\n",
              " (26, 2),\n",
              " (29, 3),\n",
              " (31, 2),\n",
              " (33, 4),\n",
              " (37, 2),\n",
              " (38, 4),\n",
              " (41, 3),\n",
              " (43, 3),\n",
              " (45, 1),\n",
              " (46, 6),\n",
              " (49, 3),\n",
              " (50, 1),\n",
              " (52, 3),\n",
              " (57, 5),\n",
              " (59, 2),\n",
              " (60, 2),\n",
              " (62, 1)]"
            ]
          },
          "metadata": {},
          "execution_count": 30
        }
      ]
    },
    {
      "cell_type": "code",
      "metadata": {
        "colab": {
          "base_uri": "https://localhost:8080/"
        },
        "id": "OswiVbhvsjlK",
        "outputId": "1b5756ee-d57d-4ce2-8c73-24c2b3633150"
      },
      "source": [
        "ocurence=[]\n",
        "effectif=[]\n",
        "for i in range(0,len(ll)):\n",
        "  ocurence.append(ll[i][1])\n",
        "  effectif.append(ll[i][0])\n",
        "print(effectif)\n",
        "ocurence\n"
      ],
      "execution_count": 52,
      "outputs": [
        {
          "output_type": "stream",
          "name": "stdout",
          "text": [
            "[24, 26, 29, 31, 33, 37, 38, 41, 43, 45, 46, 49, 50, 52, 57, 59, 60, 62]\n"
          ]
        },
        {
          "output_type": "execute_result",
          "data": {
            "text/plain": [
              "[1, 2, 3, 2, 4, 2, 4, 3, 3, 1, 6, 3, 1, 3, 5, 2, 2, 1]"
            ]
          },
          "metadata": {},
          "execution_count": 52
        }
      ]
    },
    {
      "cell_type": "markdown",
      "metadata": {
        "id": "eFmoQ56gt2M-"
      },
      "source": [
        "\n",
        "effectif cumulé\n",
        "\n"
      ]
    },
    {
      "cell_type": "code",
      "metadata": {
        "colab": {
          "base_uri": "https://localhost:8080/"
        },
        "id": "Lu8wr-tAtveK",
        "outputId": "6f5b5511-0ca5-4bf7-9c77-ceae3f47216f"
      },
      "source": [
        "cumule=[]\n",
        "cumule.append(1)\n",
        "for i in range(1,len(ocurence)):\n",
        "  cumule.append(cumule[i-1]+ocurence[i])\n",
        "cumule  "
      ],
      "execution_count": 35,
      "outputs": [
        {
          "output_type": "execute_result",
          "data": {
            "text/plain": [
              "[1, 3, 6, 8, 12, 14, 18, 21, 24, 25, 31, 34, 35, 38, 43, 45, 47, 48]"
            ]
          },
          "metadata": {},
          "execution_count": 35
        }
      ]
    },
    {
      "cell_type": "markdown",
      "metadata": {
        "id": "lwCf4lrbxRU8"
      },
      "source": [
        "Fréquence"
      ]
    },
    {
      "cell_type": "code",
      "metadata": {
        "colab": {
          "base_uri": "https://localhost:8080/"
        },
        "id": "YTGnhivkxUVI",
        "outputId": "9089ee65-af56-401d-82bc-556d58d9f5d0"
      },
      "source": [
        "frequence=[]\n",
        "for i in range(0,len(ocurence)):\n",
        "  frequence.append((ocurence[i]/cumule[len(cumule)-1])*100)\n",
        "frequence  \n"
      ],
      "execution_count": 40,
      "outputs": [
        {
          "output_type": "execute_result",
          "data": {
            "text/plain": [
              "[2.083333333333333,\n",
              " 4.166666666666666,\n",
              " 6.25,\n",
              " 4.166666666666666,\n",
              " 8.333333333333332,\n",
              " 4.166666666666666,\n",
              " 8.333333333333332,\n",
              " 6.25,\n",
              " 6.25,\n",
              " 2.083333333333333,\n",
              " 12.5,\n",
              " 6.25,\n",
              " 2.083333333333333,\n",
              " 6.25,\n",
              " 10.416666666666668,\n",
              " 4.166666666666666,\n",
              " 4.166666666666666,\n",
              " 2.083333333333333]"
            ]
          },
          "metadata": {},
          "execution_count": 40
        }
      ]
    },
    {
      "cell_type": "markdown",
      "metadata": {
        "id": "N0dZucMlztlL"
      },
      "source": [
        "Fréquence cumulé"
      ]
    },
    {
      "cell_type": "code",
      "metadata": {
        "colab": {
          "base_uri": "https://localhost:8080/"
        },
        "id": "FGCNwhNAzwd0",
        "outputId": "510887d7-47f9-4d06-d5ec-9f2443be77f4"
      },
      "source": [
        "frequencecumule=[]\n",
        "frequencecumule.append(frequence[0])\n",
        "for i in range(1,len(ocurence)):\n",
        "  frequencecumule.append(frequence[i]+frequencecumule[i-1])\n",
        "frequencecumule  \n"
      ],
      "execution_count": 44,
      "outputs": [
        {
          "output_type": "execute_result",
          "data": {
            "text/plain": [
              "[2.083333333333333,\n",
              " 6.249999999999999,\n",
              " 12.5,\n",
              " 16.666666666666664,\n",
              " 24.999999999999996,\n",
              " 29.166666666666664,\n",
              " 37.5,\n",
              " 43.75,\n",
              " 50.0,\n",
              " 52.083333333333336,\n",
              " 64.58333333333334,\n",
              " 70.83333333333334,\n",
              " 72.91666666666667,\n",
              " 79.16666666666667,\n",
              " 89.58333333333334,\n",
              " 93.75000000000001,\n",
              " 97.91666666666669,\n",
              " 100.00000000000001]"
            ]
          },
          "metadata": {},
          "execution_count": 44
        }
      ]
    },
    {
      "cell_type": "markdown",
      "metadata": {
        "id": "Ai4Iqlc-1M2p"
      },
      "source": [
        "diagramme en bâtons"
      ]
    },
    {
      "cell_type": "code",
      "metadata": {
        "colab": {
          "base_uri": "https://localhost:8080/",
          "height": 265
        },
        "id": "PsCAVppY1Lh5",
        "outputId": "4ad2be84-b3de-4d5b-d833-95a07b0310e5"
      },
      "source": [
        "import matplotlib.pyplot as plt\n",
        "names=[]\n",
        "values=[]\n",
        "for i in range(0,len(ll)):\n",
        "    names.append(ll[i][0]) \n",
        "    values.append(ll[i][1]) \n",
        "\n",
        "plt.bar(names, values) \n",
        "plt.show() "
      ],
      "execution_count": 45,
      "outputs": [
        {
          "output_type": "display_data",
          "data": {
            "image/png": "[encoded data removed]",
            "text/plain": [
              "<Figure size 432x288 with 1 Axes>"
            ]
          },
          "metadata": {
            "needs_background": "light"
          }
        }
      ]
    },
    {
      "cell_type": "markdown",
      "metadata": {
        "id": "vqweSlBF3w1G"
      },
      "source": [
        "Le diagramme cumulatif"
      ]
    },
    {
      "cell_type": "code",
      "metadata": {
        "colab": {
          "base_uri": "https://localhost:8080/",
          "height": 268
        },
        "id": "aL3mXrLf26o5",
        "outputId": "67e479da-32a5-49ca-a09e-e5c33924a306"
      },
      "source": [
        "plt.bar(names, cumule) \n",
        "plt.show() "
      ],
      "execution_count": 46,
      "outputs": [
        {
          "output_type": "display_data",
          "data": {
            "image/png": "[encoded data removed]",
            "text/plain": [
              "<Figure size 432x288 with 1 Axes>"
            ]
          },
          "metadata": {
            "needs_background": "light"
          }
        }
      ]
    },
    {
      "cell_type": "code",
      "metadata": {
        "colab": {
          "base_uri": "https://localhost:8080/"
        },
        "id": "xtEZ7yXZ4QdK",
        "outputId": "a328eef5-e748-4f33-8338-611b6e3102b3"
      },
      "source": [
        "import statistics\n",
        "print(\"La  médiane de la population:\",statistics.median(effectif))\n",
        "print(\"La moyenne de la population:\",statistics.mean(effectif))\n",
        "print(\"l'Écart-type de la population:\",statistics.pstdev(effectif))\n",
        "print(\"La Variance de la population:\",statistics.pvariance(effectif))\n"
      ],
      "execution_count": 58,
      "outputs": [
        {
          "output_type": "stream",
          "name": "stdout",
          "text": [
            "La  médiane de la population: 44.0\n",
            "La moyenne de la population: 43.44444444444444\n",
            "l'Écart-type de la population: 11.62479257746717\n",
            "La Variance de la population: 135.1358024691358\n"
          ]
        }
      ]
    }
  ]
}